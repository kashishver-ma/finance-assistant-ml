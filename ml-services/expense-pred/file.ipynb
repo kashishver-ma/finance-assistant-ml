{
 "cells": [
  {
   "cell_type": "code",
   "execution_count": 1,
   "id": "8e2fafcb",
   "metadata": {},
   "outputs": [
    {
     "ename": "ModuleNotFoundError",
     "evalue": "No module named 'pandas'",
     "output_type": "error",
     "traceback": [
      "\u001b[31m---------------------------------------------------------------------------\u001b[39m",
      "\u001b[31mModuleNotFoundError\u001b[39m                       Traceback (most recent call last)",
      "\u001b[36mCell\u001b[39m\u001b[36m \u001b[39m\u001b[32mIn[1]\u001b[39m\u001b[32m, line 3\u001b[39m\n\u001b[32m      1\u001b[39m \u001b[38;5;66;03m##loading data\u001b[39;00m\n\u001b[32m----> \u001b[39m\u001b[32m3\u001b[39m \u001b[38;5;28;01mimport\u001b[39;00m\u001b[38;5;250m \u001b[39m\u001b[34;01mpandas\u001b[39;00m\u001b[38;5;250m \u001b[39m\u001b[38;5;28;01mas\u001b[39;00m\u001b[38;5;250m \u001b[39m\u001b[34;01mpd\u001b[39;00m\n\u001b[32m      5\u001b[39m df=pd.read_csv(\u001b[33m\"\u001b[39m\u001b[33mpersonal_expense_classification.csv\u001b[39m\u001b[33m\"\u001b[39m)\n\u001b[32m      6\u001b[39m df.head()\n",
      "\u001b[31mModuleNotFoundError\u001b[39m: No module named 'pandas'"
     ]
    }
   ],
   "source": [
    "##loading data\n",
    "\n",
    "import pandas as pd\n",
    "\n",
    "df=pd.read_csv(\"personal_expense_classification.csv\")\n",
    "df.head()\n",
    "df.columns\n"
   ]
  },
  {
   "cell_type": "code",
   "execution_count": null,
   "id": "aa5f53b9",
   "metadata": {},
   "outputs": [
    {
     "data": {
      "text/plain": [
       "(200, 2)"
      ]
     },
     "execution_count": 13,
     "metadata": {},
     "output_type": "execute_result"
    }
   ],
   "source": [
    "df.drop(['expense_id', 'amount', 'merchant'],axis=1,inplace=True)\n",
    "df.head()\n",
    "df.columns\n",
    "df.shape\n",
    "\n"
   ]
  },
  {
   "cell_type": "code",
   "execution_count": null,
   "id": "db0df609",
   "metadata": {},
   "outputs": [
    {
     "data": {
      "text/plain": [
       "(187, 2)"
      ]
     },
     "execution_count": 14,
     "metadata": {},
     "output_type": "execute_result"
    }
   ],
   "source": [
    "df.duplicated().sum()\n",
    "df.drop_duplicates(inplace=True)\n",
    "df.shape\n",
    "\n",
    "df.isnull().sum()\n",
    "df.dropna(inplace=True)\n",
    "df.shape\n",
    "# df"
   ]
  },
  {
   "cell_type": "code",
   "execution_count": null,
   "id": "2e8a9643",
   "metadata": {},
   "outputs": [
    {
     "name": "stdout",
     "output_type": "stream",
     "text": [
      "{'shopping': 0, 'technology': 1, 'food': 2, 'entertainment': 3, 'transport': 4}\n"
     ]
    },
    {
     "data": {
      "text/html": [
       "<div>\n",
       "<style scoped>\n",
       "    .dataframe tbody tr th:only-of-type {\n",
       "        vertical-align: middle;\n",
       "    }\n",
       "\n",
       "    .dataframe tbody tr th {\n",
       "        vertical-align: top;\n",
       "    }\n",
       "\n",
       "    .dataframe thead th {\n",
       "        text-align: right;\n",
       "    }\n",
       "</style>\n",
       "<table border=\"1\" class=\"dataframe\">\n",
       "  <thead>\n",
       "    <tr style=\"text-align: right;\">\n",
       "      <th></th>\n",
       "      <th>description</th>\n",
       "      <th>category</th>\n",
       "    </tr>\n",
       "  </thead>\n",
       "  <tbody>\n",
       "    <tr>\n",
       "      <th>0</th>\n",
       "      <td>wireless headphones purchase</td>\n",
       "      <td>0</td>\n",
       "    </tr>\n",
       "    <tr>\n",
       "      <th>1</th>\n",
       "      <td>monthly streaming subscription</td>\n",
       "      <td>3</td>\n",
       "    </tr>\n",
       "    <tr>\n",
       "      <th>2</th>\n",
       "      <td>morning coffee and muffin</td>\n",
       "      <td>2</td>\n",
       "    </tr>\n",
       "    <tr>\n",
       "      <th>3</th>\n",
       "      <td>ride to downtown office</td>\n",
       "      <td>4</td>\n",
       "    </tr>\n",
       "    <tr>\n",
       "      <th>4</th>\n",
       "      <td>smartphone screen protector</td>\n",
       "      <td>1</td>\n",
       "    </tr>\n",
       "  </tbody>\n",
       "</table>\n",
       "</div>"
      ],
      "text/plain": [
       "                      description  category\n",
       "0    wireless headphones purchase         0\n",
       "1  monthly streaming subscription         3\n",
       "2       morning coffee and muffin         2\n",
       "3         ride to downtown office         4\n",
       "4     smartphone screen protector         1"
      ]
     },
     "execution_count": 15,
     "metadata": {},
     "output_type": "execute_result"
    }
   ],
   "source": [
    "#encoding categorical data\n",
    "\n",
    "df.columns\n",
    "df['category'].unique()\n",
    "# print(df['category'].value_counts())\n",
    "# print(\"cateogory\" ,df['category'].unique())\n",
    "\n",
    "# #giving labels to categories\n",
    "\n",
    "key={\n",
    "    'shopping':0, 'technology':1 ,'food':2 ,'entertainment':3 ,'transport':4\n",
    "\n",
    "}\n",
    "print(key)\n",
    "df['category']=df['category'].map(key)\n",
    "df.head()"
   ]
  },
  {
   "cell_type": "code",
   "execution_count": null,
   "id": "b53dd175",
   "metadata": {},
   "outputs": [
    {
     "name": "stdout",
     "output_type": "stream",
     "text": [
      "[0 3 2 4 1]\n",
      "int64\n",
      "\n",
      " ********************************************************    \n",
      "0      wireless headphones purchase\n",
      "1    monthly streaming subscription\n",
      "2         morning coffee and muffin\n",
      "3           ride to downtown office\n",
      "4       smartphone screen protector\n",
      "5                  lunch combo meal\n",
      "6                    daily bus pass\n",
      "7        premium music subscription\n",
      "8       household cleaning supplies\n",
      "9              iPad protective case\n",
      "Name: description, dtype: object\n",
      "\n",
      "\n",
      "Vocabulary (first 20 words):\n",
      "['accessories' 'ad' 'airport' 'and' 'anime' 'app' 'appliances'\n",
      " 'appointment' 'art' 'arthouse']\n",
      "\n",
      "first desciption is  :  wireless headphones purchase\n",
      "\n",
      "Vector for first description:\n",
      "[0 0 0 0 0 0 0 0 0 0]\n"
     ]
    }
   ],
   "source": [
    "##now preprocess description column\n",
    "df['description'].unique()\n",
    "\n",
    "from sklearn.feature_extraction.text import CountVectorizer\n",
    "\n",
    "X = df['description']       # independent variable\n",
    "y = df['category']          # target variable\n",
    "\n",
    "print(y.unique())\n",
    "print(y.dtype)\n",
    "\n",
    "\n",
    "vectorizer = CountVectorizer()  #object of CountVectorizer\n",
    "X_vect = vectorizer.fit_transform(X)  #fit and transform the data\n",
    "\n",
    "# Check shape\n",
    "X_vect.shape\n",
    "  # (num_samples, num_features)\n",
    "\n",
    "print()\n",
    "print(\" ********************************************************    \")\n",
    "# Converts text data (description) into numeric vectors so ML models can use it.\n",
    "\n",
    "# How it works:\n",
    "\n",
    "# Builds a vocabulary of all words in your dataset\n",
    "\n",
    "# For each description, counts how many times each word appears\n",
    "\n",
    "# Example:\n",
    "\n",
    "# Vocabulary: ['coffee', 'electricity', 'hut', 'pizza', 'starbucks', 'uber']\n",
    "\n",
    "# Description: \"Starbucks coffee\" → vector [1, 0, 0, 0, 1, 0]\n",
    "\n",
    "\n",
    "#IN ABOVE CASE VOCABULARY \n",
    "\n",
    "#PRINTING DESC OF FIRST 10 ROWS DESCRIPTION\n",
    "print(df['description'][:10])\n",
    "\n",
    "print(end='\\n')\n",
    "\n",
    "# Print the vocabulary\n",
    "vocab = vectorizer.get_feature_names_out()\n",
    "print() \n",
    "print(\"Vocabulary (first 20 words):\")\n",
    "print(vocab[:10])  # just show first 20 words for readability\n",
    "# Print the vector for the first description\n",
    "vector = X_vect.toarray()[0]\n",
    "print()\n",
    "\n",
    "# ?first descrption ?\n",
    "print(\"first desciption is  : \" ,df['description'][0])\n",
    "print(\"\\nVector for first description:\")\n",
    "print(vector[:10])  # just show first 20 elements for readability\n",
    "\n",
    "\n"
   ]
  },
  {
   "cell_type": "code",
   "execution_count": null,
   "id": "9ff76c98",
   "metadata": {},
   "outputs": [],
   "source": []
  },
  {
   "cell_type": "code",
   "execution_count": null,
   "id": "b4089d52",
   "metadata": {},
   "outputs": [],
   "source": [
    "# training and testing of data\n",
    "\n",
    "#data is splitted\n",
    "\n",
    "from sklearn.model_selection import train_test_split\n",
    "\n",
    "X_train, X_test, y_train, y_test = train_test_split(X_vect, y, test_size=0.2, random_state=42)\n"
   ]
  },
  {
   "cell_type": "code",
   "execution_count": null,
   "id": "61eb5204",
   "metadata": {},
   "outputs": [
    {
     "name": "stdout",
     "output_type": "stream",
     "text": [
      "Accuracy: 0.9473684210526315\n"
     ]
    }
   ],
   "source": [
    "#train naive baise model for predicting cateorgy from desc\n",
    "\n",
    "from sklearn.naive_bayes import MultinomialNB\n",
    "\n",
    "model = MultinomialNB()\n",
    "model.fit(X_train, y_train)\n",
    "\n",
    "from sklearn.metrics import accuracy_score\n",
    "\n",
    "y_pred = model.predict(X_test)\n",
    "print(\"Accuracy:\", accuracy_score(y_test, y_pred))\n",
    "\n"
   ]
  },
  {
   "cell_type": "code",
   "execution_count": null,
   "id": "3a34d097",
   "metadata": {},
   "outputs": [
    {
     "data": {
      "text/plain": [
       "['vectorizer_d']"
      ]
     },
     "execution_count": 21,
     "metadata": {},
     "output_type": "execute_result"
    }
   ],
   "source": [
    "#savin my files model\n",
    "\n",
    "import joblib\n",
    "\n",
    "joblib.dump(model,'category_model.joblib')\n",
    "joblib.dump(vectorizer,'vectorizer_d')\n",
    "\n",
    "# What You've Successfully Created:\n",
    "# 1. category_model.joblib - The Brain 🧠\n",
    "\n",
    "# Contains the trained Naive Bayes model\n",
    "# Knows the patterns: \"coffee\" → food, \"uber\" → transport, etc.\n",
    "# This is what makes the predictions\n",
    "\n",
    "# 2. vectorizer_d - The Translator 🔤➡️🔢\n",
    "\n",
    "# Converts text descriptions into numerical arrays\n",
    "# CRITICAL: Must use the same vectorizer for new predictions\n",
    "# Without this, your model won't understand new text\n",
    "\n",
    "\n",
    "# # ❌ WRONG - This won't work!\n",
    "# new_text = \"Starbucks coffee\"\n",
    "# prediction = model.predict(new_text)  # ERROR! Model can't understand text\n",
    "\n",
    "# # ✅ RIGHT - This works!\n",
    "# new_text = \"Starbucks coffee\"\n",
    "# vectorized_text = vectorizer.transform([new_text])  # Convert to numbers\n",
    "# prediction = model.predict(vectorized_text)  # Now model understands!"
   ]
  },
  {
   "cell_type": "code",
   "execution_count": null,
   "id": "09e71785",
   "metadata": {},
   "outputs": [
    {
     "name": "stdout",
     "output_type": "stream",
     "text": [
      "Expense: 'Uber ride to office' → Predicted Category: transport\n",
      "Expense: 'Starbucks coffee' → Predicted Category: food\n",
      "Expense: ' uber new office' → Predicted Category: transport\n",
      "Expense: 'Bought new headphones' → Predicted Category: technology\n"
     ]
    }
   ],
   "source": [
    "# loading model  and testing \n",
    "from sklearn.metrics import accuracy_score\n",
    "\n",
    "new_expenses = [\n",
    "    \"Uber ride to office\",\n",
    "    \"Starbucks coffee\",\n",
    "    \" uber new office\",\n",
    "    \"Bought new headphones\"\n",
    "]\n",
    "\n",
    "X_new = vectorizer.transform(new_expenses)\n",
    "\n",
    "\n",
    "model_l =joblib.load('category_model.joblib')\n",
    "\n",
    "y_pred_new = model_l.predict(X_new)\n",
    "# print(\"Accuracy:\", accuracy_score(y_pred, y_pred_new))\n",
    "\n",
    "\n",
    "category_map = {0:'shopping', 1:'technology', 2:'food', 3:'entertainment', 4:'transport'}\n",
    "\n",
    "for desc, cat in zip(new_expenses, y_pred_new):\n",
    "    print(f\"Expense: '{desc}' → Predicted Category: {category_map[cat]}\")\n",
    "\n",
    "\n",
    "\n"
   ]
  }
 ],
 "metadata": {
  "kernelspec": {
   "display_name": "catg",
   "language": "python",
   "name": "python3"
  },
  "language_info": {
   "codemirror_mode": {
    "name": "ipython",
    "version": 3
   },
   "file_extension": ".py",
   "mimetype": "text/x-python",
   "name": "python",
   "nbconvert_exporter": "python",
   "pygments_lexer": "ipython3",
   "version": "3.13.7"
  }
 },
 "nbformat": 4,
 "nbformat_minor": 5
}
